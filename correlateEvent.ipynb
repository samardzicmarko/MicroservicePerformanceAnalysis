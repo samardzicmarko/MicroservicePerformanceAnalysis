{
 "cells": [
  {
   "cell_type": "code",
   "execution_count": 1,
   "metadata": {},
   "outputs": [],
   "source": [
    "import pandas as pd\n",
    "import numpy as np\n",
    "import matplotlib.pyplot as plt\n"
   ]
  },
  {
   "cell_type": "code",
   "execution_count": 10,
   "metadata": {},
   "outputs": [],
   "source": [
    "balance = pd.read_csv('datasets/final_events/final_balance.csv')\n",
    "check = pd.read_csv('datasets/final_events/final_check.csv')\n",
    "save_invoice = pd.read_csv('datasets/final_events/final_sinvoice.csv')\n",
    "sync = pd.read_csv('datasets/final_events/final_sync.csv')\n",
    "z_list = pd.read_csv('datasets/final_events/final_zlist.csv')\n",
    "data_query = pd.read_csv('datasets/final_events/final_dquery.csv')\n"
   ]
  },
  {
   "cell_type": "code",
   "execution_count": 424,
   "metadata": {},
   "outputs": [],
   "source": [
    "check = check.drop('Unnamed: 0', 1)\n",
    "balance = balance.drop('Unnamed: 0', 1)\n",
    "save_invoice = save_invoice.drop('Unnamed: 0', 1)\n",
    "sync = sync.drop('Unnamed: 0', 1)\n",
    "z_list = z_list.drop('Unnamed: 0', 1)\n",
    "data_query = data_query.drop('Unnamed: 0', 1)\n",
    "\n"
   ]
  },
  {
   "cell_type": "code",
   "execution_count": 425,
   "metadata": {},
   "outputs": [],
   "source": [
    "from sklearn import preprocessing\n",
    "\n",
    "def normalize_data(df):\n",
    "    df = df.clip(lower=0)\n",
    "    min_max_scaler = preprocessing.MinMaxScaler(feature_range=(0, 1))\n",
    "    cols = df.columns\n",
    "    np_scaled = min_max_scaler.fit_transform(df)\n",
    "    df = pd.DataFrame(np_scaled, columns=cols)\n",
    "    return df\n",
    "\n"
   ]
  },
  {
   "cell_type": "code",
   "execution_count": 426,
   "metadata": {},
   "outputs": [],
   "source": [
    "norm_sync = normalize_data(sync)\n",
    "norm_check = normalize_data(check)\n",
    "norm_sinvoice = normalize_data(save_invoice)\n",
    "norm_balance = normalize_data(balance)\n",
    "norm_zlist = normalize_data(z_list)\n",
    "norm_dquery = normalize_data(data_query)"
   ]
  },
  {
   "cell_type": "code",
   "execution_count": 416,
   "metadata": {},
   "outputs": [],
   "source": [
    "test_data = pd.concat([norm_balance, norm_check, norm_dquery, norm_sinvoice, norm_sync, norm_zlist], axis=1)"
   ]
  },
  {
   "cell_type": "code",
   "execution_count": 417,
   "metadata": {},
   "outputs": [],
   "source": [
    "def get_decay(window_size, smoothing=.3):\n",
    "    e = np.exp(np.arange(window_size) / int(window_size * smoothing))[::-1] - 1\n",
    "    e = (e - np.min(e)) / (np.max(e) - np.min(e))\n",
    "    return e"
   ]
  },
  {
   "cell_type": "code",
   "execution_count": 348,
   "metadata": {},
   "outputs": [],
   "source": [
    "def corr_results(data, time_window):\n",
    "    data = np.array(data)\n",
    "    plt.scatter(data[:, 0], data[:, 1])\n",
    "    corr = (data[:,1].sum()/data.shape[0])/time_window\n",
    "    return corr\n",
    "    \n",
    "    "
   ]
  },
  {
   "cell_type": "code",
   "execution_count": 329,
   "metadata": {},
   "outputs": [],
   "source": [
    "def detect_spike_sync(ts1, ts2, window_size=5):\n",
    "    con1 = ts1[ts1.columns[0]]>0\n",
    "    ts1_signals = ts1[con1]\n",
    "    print(len(ts1_signals))\n",
    "    print(ts1.columns[0])\n",
    "\n",
    "    result = list()\n",
    "    for indx in ts1_signals.index:\n",
    "        \n",
    "        if indx+window_size > len(ts2):\n",
    "            break\n",
    "        val1 = ts1_signals.loc[indx].values[0]\n",
    "        val2 = ts2.loc[indx:indx+window_size-1, ts2.columns[0]].values #* get_decay(window_size)\n",
    "\n",
    "        result.append([val1, sum(val2)])\n",
    "        \n",
    "    return result\n",
    "        \n",
    "        "
   ]
  },
  {
   "cell_type": "code",
   "execution_count": 418,
   "metadata": {},
   "outputs": [
    {
     "name": "stdout",
     "output_type": "stream",
     "text": [
      "533\n",
      "save_invoice\n",
      "816\n",
      "check\n"
     ]
    }
   ],
   "source": [
    "time_window = 5\n",
    "\n",
    "balance_sinvoice = detect_spike_sync(norm_sinvoice,norm_balance, time_window)\n",
    "check_sync = detect_spike_sync(norm_check, norm_sync, time_window)\n"
   ]
  },
  {
   "cell_type": "code",
   "execution_count": 449,
   "metadata": {},
   "outputs": [],
   "source": [
    "col_names=['z_list', 'save_invoice', 'check', 'balance', 'data_query', 'sync']\n",
    "\n",
    "\n",
    "def calc_matrix(all_ts, window_size):\n",
    "\n",
    "    matrix = np.zeros((len(all_ts), len(all_ts)))\n",
    "\n",
    "    for i, ts1 in enumerate(all_ts):\n",
    "\n",
    "        for j, ts2 in enumerate(all_ts):\n",
    "\n",
    "             res = detect_spike_sync(ts1, ts2, window_size)\n",
    "             matrix[i][j] = corr_results(res, window_size)\n",
    "            \n",
    "    return matrix\n",
    "\n",
    "\n",
    "def calc_inv_matrix(all_ts, window_size):\n",
    "    inv_matrix = np.zeros((len(all_ts), len(all_ts)))\n",
    "    \n",
    "    for i, ts2 in enumerate(all_ts):\n",
    "        for j, ts1 in enumerate(all_ts):\n",
    "            \n",
    "            if i == j:\n",
    "                inv_matrix[i][j] = 1\n",
    "            else:\n",
    "                res = detect_spike_sync(ts2, ts1, window_size)\n",
    "                \n",
    "                inv_matrix[i][j] = corr_results(res, window_size)\n",
    "                \n",
    "    return inv_matrix\n",
    "    "
   ]
  },
  {
   "cell_type": "code",
   "execution_count": 450,
   "metadata": {},
   "outputs": [
    {
     "name": "stdout",
     "output_type": "stream",
     "text": [
      "188\n",
      "balance\n",
      "188\n",
      "balance\n",
      "188\n",
      "balance\n",
      "188\n",
      "balance\n",
      "188\n",
      "balance\n",
      "188\n",
      "balance\n",
      "816\n",
      "check\n",
      "816\n",
      "check\n",
      "816\n",
      "check\n",
      "816\n",
      "check\n",
      "816\n",
      "check\n",
      "816\n",
      "check\n",
      "543\n",
      "data_query\n",
      "543\n",
      "data_query\n",
      "543\n",
      "data_query\n",
      "543\n",
      "data_query\n",
      "543\n",
      "data_query\n",
      "543\n",
      "data_query\n",
      "533\n",
      "save_invoice\n",
      "533\n",
      "save_invoice\n",
      "533\n",
      "save_invoice\n",
      "533\n",
      "save_invoice\n",
      "533\n",
      "save_invoice\n",
      "533\n",
      "save_invoice\n",
      "947\n",
      "sync\n",
      "947\n",
      "sync\n",
      "947\n",
      "sync\n",
      "947\n",
      "sync\n",
      "947\n",
      "sync\n",
      "947\n",
      "sync\n",
      "1342\n",
      "z_list\n",
      "1342\n",
      "z_list\n",
      "1342\n",
      "z_list\n",
      "1342\n",
      "z_list\n",
      "1342\n",
      "z_list\n",
      "1342\n",
      "z_list\n"
     ]
    },
    {
     "data": {
      "image/png": "[encoded data removed]",
      "text/plain": [
       "<Figure size 432x288 with 1 Axes>"
      ]
     },
     "metadata": {
      "needs_background": "light"
     },
     "output_type": "display_data"
    }
   ],
   "source": [
    "result2 = calc_matrix([norm_balance, norm_check, norm_dquery, norm_sinvoice, norm_sync, norm_zlist], window_size=4)"
   ]
  },
  {
   "cell_type": "code",
   "execution_count": 451,
   "metadata": {},
   "outputs": [],
   "source": [
    "result3 = pd.DataFrame(result2)\n"
   ]
  },
  {
   "cell_type": "code",
   "execution_count": 452,
   "metadata": {},
   "outputs": [
    {
     "data": {
      "text/html": [
       "<div>\n",
       "<style scoped>\n",
       "    .dataframe tbody tr th:only-of-type {\n",
       "        vertical-align: middle;\n",
       "    }\n",
       "\n",
       "    .dataframe tbody tr th {\n",
       "        vertical-align: top;\n",
       "    }\n",
       "\n",
       "    .dataframe thead th {\n",
       "        text-align: right;\n",
       "    }\n",
       "</style>\n",
       "<table border=\"1\" class=\"dataframe\">\n",
       "  <thead>\n",
       "    <tr style=\"text-align: right;\">\n",
       "      <th></th>\n",
       "      <th>0</th>\n",
       "      <th>1</th>\n",
       "      <th>2</th>\n",
       "      <th>3</th>\n",
       "      <th>4</th>\n",
       "      <th>5</th>\n",
       "    </tr>\n",
       "  </thead>\n",
       "  <tbody>\n",
       "    <tr>\n",
       "      <th>0</th>\n",
       "      <td>0.053906</td>\n",
       "      <td>0.000816</td>\n",
       "      <td>0.000805</td>\n",
       "      <td>0.005503</td>\n",
       "      <td>0.000835</td>\n",
       "      <td>0.011672</td>\n",
       "    </tr>\n",
       "    <tr>\n",
       "      <th>1</th>\n",
       "      <td>0.001015</td>\n",
       "      <td>0.027837</td>\n",
       "      <td>0.006520</td>\n",
       "      <td>0.003100</td>\n",
       "      <td>0.001127</td>\n",
       "      <td>0.007419</td>\n",
       "    </tr>\n",
       "    <tr>\n",
       "      <th>2</th>\n",
       "      <td>0.001983</td>\n",
       "      <td>0.002087</td>\n",
       "      <td>0.023623</td>\n",
       "      <td>0.005603</td>\n",
       "      <td>0.002046</td>\n",
       "      <td>0.007638</td>\n",
       "    </tr>\n",
       "    <tr>\n",
       "      <th>3</th>\n",
       "      <td>0.001685</td>\n",
       "      <td>0.003471</td>\n",
       "      <td>0.000936</td>\n",
       "      <td>0.062899</td>\n",
       "      <td>0.001869</td>\n",
       "      <td>0.005490</td>\n",
       "    </tr>\n",
       "    <tr>\n",
       "      <th>4</th>\n",
       "      <td>0.001061</td>\n",
       "      <td>0.002732</td>\n",
       "      <td>0.004775</td>\n",
       "      <td>0.005698</td>\n",
       "      <td>0.011287</td>\n",
       "      <td>0.005326</td>\n",
       "    </tr>\n",
       "    <tr>\n",
       "      <th>5</th>\n",
       "      <td>0.000690</td>\n",
       "      <td>0.000978</td>\n",
       "      <td>0.000782</td>\n",
       "      <td>0.001433</td>\n",
       "      <td>0.000590</td>\n",
       "      <td>0.083756</td>\n",
       "    </tr>\n",
       "  </tbody>\n",
       "</table>\n",
       "</div>"
      ],
      "text/plain": [
       "          0         1         2         3         4         5\n",
       "0  0.053906  0.000816  0.000805  0.005503  0.000835  0.011672\n",
       "1  0.001015  0.027837  0.006520  0.003100  0.001127  0.007419\n",
       "2  0.001983  0.002087  0.023623  0.005603  0.002046  0.007638\n",
       "3  0.001685  0.003471  0.000936  0.062899  0.001869  0.005490\n",
       "4  0.001061  0.002732  0.004775  0.005698  0.011287  0.005326\n",
       "5  0.000690  0.000978  0.000782  0.001433  0.000590  0.083756"
      ]
     },
     "execution_count": 452,
     "metadata": {},
     "output_type": "execute_result"
    }
   ],
   "source": [
    "result3"
   ]
  },
  {
   "cell_type": "code",
   "execution_count": 79,
   "metadata": {},
   "outputs": [],
   "source": [
    "rez = pd.DataFrame(rez)"
   ]
  }
 ],
 "metadata": {
  "kernelspec": {
   "display_name": "Python 3",
   "language": "python",
   "name": "python3"
  },
  "language_info": {
   "codemirror_mode": {
    "name": "ipython",
    "version": 3
   },
   "file_extension": ".py",
   "mimetype": "text/x-python",
   "name": "python",
   "nbconvert_exporter": "python",
   "pygments_lexer": "ipython3",
   "version": "3.7.4"
  }
 },
 "nbformat": 4,
 "nbformat_minor": 2
}
